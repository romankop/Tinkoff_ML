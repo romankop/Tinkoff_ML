{
 "cells": [
  {
   "cell_type": "markdown",
   "metadata": {},
   "source": [
    "# Домашнее задание по рекомендательным системам"
   ]
  },
  {
   "cell_type": "markdown",
   "metadata": {},
   "source": [
    "В данном домашнем задании вам предлагается реализовать User-based рекомендательную систему. Так же требуется реализовать несколько вспомогательных функций, шаблоны которых вы можете найти в `utils.py`.\n",
    "\n",
    "Требования к выполнению задания:\n",
    "- Реализация функции из `utils.py` засчитывается, только если пройдены все соответствующие тесты из `test.py`. Запуск тестов: <font color='red'>pytest test.py</font>. Для тестов вам потребуются библиотеки `numpy`, `scipy`, `pytest` и `hypothesis`.\n",
    "- Плагиат запрещен. Если будет замечено, что часть задания списана, то 0 баллов ставится как списывающему, так и давшему списать.\n",
    "- Если пользуетесь кодом из открытых источников, то указывайте ссылки, откуда взяли решение. Иначе такой код может быть воспринят как плагиат.\n",
    "- При выполнении задания нельзя использовать библиотеку `scipy` и функцию `numpy.linalg.norm`\n",
    "\n",
    "При запуске тестов могут появиться предупреждения: PearsonRConstantInputWarning и PearsonRNearConstantInputWarning. На них можно не обращать внимания.\n",
    "\n",
    "Возможный максимум баллов за задание: 10 баллов <br>\n",
    "Дедлайн: ??? <br>\n",
    "Штраф: ??? - будет ли в курсе штраф? <br>\n",
    "<br>\n",
    "Для ускорения проверки, напишите здесь получившееся количество баллов: ..."
   ]
  },
  {
   "cell_type": "markdown",
   "metadata": {},
   "source": [
    "## 1. Метрика сходства\n",
    "<b>1.1. Реализация метрик (2 балла)</b>\n",
    "\n",
    "Первое, с чем необходимо разобраться, при реализации User-based подхода, это с метрикой, с помощью которой будет решаться, насколько похожи пользователи. Вам предлагается реализовать 2 метрики: на основе евклидовой метрики и коэффициент корреляции Пирсона. Шаблоны для обоих функций можете найти в `utils.py`. Не забудьте проверить реализацию на тестах.\n",
    "\n",
    "Евклидова метрика:\n",
    "\\begin{equation}\n",
    "d(p,q)=\\sqrt{(p_1-q_1)^2+(p_2-q_2)^2+\\dots+(p_n-q_n)^2} = \\sqrt{\\sum_{k=1}^n (p_k-q_k)^2}\n",
    "\\end{equation}\n",
    "\n",
    "В этом случае $d(p, q) \\in [0, \\infty)$, при этом если $d(p, q) \\to 0$, то $sim(p, q) \\to 1$. С учетом этого конечная формула будет выглядеть следующим образом:\n",
    "\\begin{equation}\n",
    "sim(p, q) = \\frac{1}{1 + d(p, q)}\n",
    "\\end{equation}\n",
    "Так же в этой формуле не будет проблем с делением на 0.\n",
    "\n",
    "Коэффициент корреляции Пирсона:\n",
    "\\begin{equation}\n",
    "r_{xy} = \\frac {\\sum_{i=1}^{m} \\left( x_i-\\bar{x} \\right)\\left( y_i-\\bar{y} \\right)}{\\sqrt{\\sum_{i=1}^{m} \\left( x_i-\\bar{x} \\right)^2 \\sum_{i=1}^{m} \\left( y_i-\\bar{y} \\right)^2}}\n",
    "\\end{equation}"
   ]
  },
  {
   "cell_type": "markdown",
   "metadata": {},
   "source": [
    "<b>1.2. (1 балл)</b>\n",
    "\n",
    "Рассмотрим пользователей $u$ и $v$. Им соотвествуют векторы $x_u$ и $x_v$, где $x_u[i] = r_{ui}$ и $x_v[i] = r_{vi}$. Из лекции известно, что похожесть между векторами $x_u$ и $x_v$ вычисляются только для тех индексов i, для которых существует и $r_{ui}$, и $r_{vi}$. То есть верно следуюющее:\n",
    "\\begin{equation}\n",
    "sim(u, v) = sim(x_uI_{uv}, x_vI_{uv}),\n",
    "\\end{equation}\n",
    "где $I_{uv} = [i | \\exists r_{ui} \\& \\exists r_{vi}]$. При этом если $I_{uv} = \\emptyset$, то $sim(u, v) \\to -\\infty$.\n",
    "\n",
    "Реализуйте два новых метода, которые переиспользуют написанные вами `euclidean_distance` и `pearson_distance`, добавляющие условия на $x_u$ и $x_v$. Считается, что $x_u[i] = 0$, если $\\nexists r_{ui}$. То же верно для $x_v$.\n",
    "\n",
    "При реализации заданий можно как написать новые функции, так и использовать декораторы."
   ]
  },
  {
   "cell_type": "code",
   "execution_count": 1,
   "metadata": {},
   "outputs": [],
   "source": [
    "import warnings\n",
    "warnings.filterwarnings(\"ignore\")\n",
    "\n",
    "import numpy as np\n",
    "from utils import euclidean_similarity, pearson_similarity"
   ]
  },
  {
   "cell_type": "markdown",
   "metadata": {},
   "source": [
    "## 2. User-based method\n",
    "<b>2.1. (3 балла)</b> \n",
    "\n",
    "Реализовать User-based подход, реализовав методы класса `UserBasedRecommendation`, основанного на использовании `NearestNeighbors`. В качестве метрики может для нахождения похожих пользователей может быть использована как евклидова метрика, так и коэффициент корреляции Пирсона.\n",
    "\n",
    "Не забывайте, что `NearestNeighbors` ищет минимум расстояния между элементами, поэтому логично в качестве метрики при инициализации `NearestNeighbors` использовать обратную метрике схожести. То есть такую, что когда $sim(u, v) \\to 1$, то $d(u, v) \\to 0$. Например: $d(u, v) = 1 - sim(u, v)$"
   ]
  },
  {
   "cell_type": "code",
   "execution_count": 2,
   "metadata": {},
   "outputs": [],
   "source": [
    "from sklearn.neighbors import NearestNeighbors\n",
    "from typing import Optional\n",
    "\n",
    "from collections import Counter\n",
    "\n",
    "\n",
    "class UserBasedRecommendation:\n",
    "    def __init__(self, metric: str = 'euclidean', n_recommendations: int = 5, alpha: float = 0.8):\n",
    "        \"\"\"\n",
    "        Args:\n",
    "            metric: name of metric: ['euclidean', 'pearson']\n",
    "            n_recommendations: number of recommendations. Also can be specified in self.make_recommendation\n",
    "            alpha: similarity threshold: if sim(u, v) > alpha then u and v are similar\n",
    "        \"\"\"\n",
    "        self.metric = metric\n",
    "        self.n_recommendations = n_recommendations\n",
    "        self.alpha = alpha\n",
    "\n",
    "    def fit(self, X: np.array):\n",
    "        \"\"\"\n",
    "        Args:\n",
    "            X: matrix N x M where X[u, i] = r_{ui} if r_{ui} exists else X[u, i] = 0\n",
    "        \"\"\"\n",
    "        self.X = X\n",
    "        if self.metric == 'euclidean':\n",
    "            self.used_metric = lambda x, y : 1 - euclidean_similarity(x, y)\n",
    "        if self.metric == 'pearson':\n",
    "            self.used_metric = lambda x, y : (1 - pearson_similarity(x, y)) / 2\n",
    "        self.model = NearestNeighbors(metric=self.used_metric, radius=1-self.alpha)\n",
    "        self.model.fit(self.X)\n",
    "        \n",
    "        return self\n",
    "        \n",
    "    def __find_closest_users(self, user_id: int, n_closest_users: int = None):\n",
    "        \n",
    "        if n_closest_users is None:\n",
    "            n_closest_users = self.X.shape[0]\n",
    "\n",
    "        distances, similar_users = self.model.radius_neighbors([self.X[user_id]], return_distance=True)\n",
    "        similar_users = similar_users[0][distances[0].argsort()]\n",
    "        return similar_users[similar_users != user_id][:n_closest_users]\n",
    "\n",
    "    def make_recommendation(self, user_id: int, n_closest_users: int = None, n_recommendations: Optional[int] = None):\n",
    "        \"\"\"\n",
    "        Args:\n",
    "            user_id: user id to whom you want to recommend\n",
    "            n_recommendations: number of recommendations\n",
    "        \"\"\"\n",
    "        if n_recommendations is None:\n",
    "            n_recommendations = self.n_recommendations\n",
    "        ind = self.__find_closest_users(user_id=user_id, n_closest_users=n_closest_users)\n",
    "        X_users = self.X[ind]\n",
    "        popularity = (X_users > 0).mean(axis=0).argsort()\n",
    "        \n",
    "        return popularity[::-1][:n_recommendations]"
   ]
  },
  {
   "cell_type": "markdown",
   "metadata": {},
   "source": [
    "<b>2.2. (1 балла)</b>\n",
    "\n",
    "Приведите пример, для которого использование разных метрик будет давать разные рекомендации. Объясните свой пример."
   ]
  },
  {
   "cell_type": "code",
   "execution_count": 3,
   "metadata": {},
   "outputs": [],
   "source": [
    "X = np.array([[0, 0.1, 0.3],\n",
    "             [0, 2, 1.5],\n",
    "             [0, 0.6, 0.5],\n",
    "             [0, 0.5, 0],\n",
    "             [0, 1.6, 1.05]])"
   ]
  },
  {
   "cell_type": "code",
   "execution_count": 4,
   "metadata": {},
   "outputs": [
    {
     "data": {
      "text/plain": [
       "array([1], dtype=int64)"
      ]
     },
     "execution_count": 4,
     "metadata": {},
     "output_type": "execute_result"
    }
   ],
   "source": [
    "model = UserBasedRecommendation(alpha=0.1).fit(X)\n",
    "model.make_recommendation(user_id=2, n_recommendations=1, n_closest_users=2)"
   ]
  },
  {
   "cell_type": "code",
   "execution_count": 5,
   "metadata": {},
   "outputs": [
    {
     "data": {
      "text/plain": [
       "array([2], dtype=int64)"
      ]
     },
     "execution_count": 5,
     "metadata": {},
     "output_type": "execute_result"
    }
   ],
   "source": [
    "model = UserBasedRecommendation(alpha=0, metric='pearson').fit(X)\n",
    "model.make_recommendation(user_id=2, n_recommendations=1, n_closest_users=2)"
   ]
  },
  {
   "cell_type": "markdown",
   "metadata": {},
   "source": [
    "<b>Объяснение:</b> Для ясности пронумеруем товары с 0. Видно, что третьему пользователю так же как и второму больше понравился товар 1 и чуть меньше понравился товар 2, тогда как первому пользователю оба эти товары не сильно понравились, причем товар 1 ему понравился меньше, чем товар 2, то есть наблюдается обратная завизимость. Но все эти факторы никак не учитываются при использовании евклидовой метрики, поэтому в первом случае алгоритм посчитал, что первый и третий пользователь похожи только по тому, что они ставят оценки примерно в одном и том отрезке: {0, 1}, что является довольно странным предположением. А алгоритм, использующий коэффициент корреляции Пирсона учитывает эти факторы, поэтому находит третьему пользователю соседа со схожими интересами в виде второго пользователя. Отсюда получаем разные рекомендации."
   ]
  },
  {
   "cell_type": "markdown",
   "metadata": {},
   "source": [
    "## 3. Оценка качества\n",
    "<b>3.1. (1 балл)</b>\n",
    "\n",
    "Реализуйте Average Precision at k и Mean Average Precision at k. Шаблоны можете найти в `utils.py`.\n",
    "\\begin{align*}\n",
    "AP@K = \\frac{1}{m}\\sum_{k=1}^K P(k)*rel(k), \\\\\n",
    "MAP@K = \\frac{1}{|U|}\\sum_{u=1}^{|U|}(AP@K)_u\n",
    "\\end{align*}\n",
    "где $P(k)$ - Precision at k, $rel(k) = 1$, если рекомендация релевантна, иначе $rel(k) = 0$."
   ]
  },
  {
   "cell_type": "markdown",
   "metadata": {},
   "source": [
    "## 4. Применение модели\n",
    "<b>4.1. (2 балла)</b>\n",
    "\n",
    "Выгрузите датасет `ratings_small.csv`: https://www.kaggle.com/rounakbanik/the-movies-dataset#ratings_small.csv"
   ]
  },
  {
   "cell_type": "code",
   "execution_count": 6,
   "metadata": {},
   "outputs": [],
   "source": [
    "import pandas as pd\n",
    "from sklearn.model_selection import train_test_split"
   ]
  },
  {
   "cell_type": "code",
   "execution_count": 7,
   "metadata": {},
   "outputs": [
    {
     "data": {
      "text/plain": [
       "(100004, 4)"
      ]
     },
     "execution_count": 7,
     "metadata": {},
     "output_type": "execute_result"
    }
   ],
   "source": [
    "data = pd.read_csv('ratings_small.csv', index_col=False)\n",
    "data.shape"
   ]
  },
  {
   "cell_type": "code",
   "execution_count": 8,
   "metadata": {},
   "outputs": [
    {
     "data": {
      "text/plain": [
       "(1, 671, 671)"
      ]
     },
     "execution_count": 8,
     "metadata": {},
     "output_type": "execute_result"
    }
   ],
   "source": [
    "data.userId.min(), data.userId.max(), len(data.userId.unique())"
   ]
  },
  {
   "cell_type": "code",
   "execution_count": 9,
   "metadata": {},
   "outputs": [
    {
     "data": {
      "text/plain": [
       "(1, 163949, 9066)"
      ]
     },
     "execution_count": 9,
     "metadata": {},
     "output_type": "execute_result"
    }
   ],
   "source": [
    "data.movieId.min(), data.movieId.max(), len(data.movieId.unique())"
   ]
  },
  {
   "cell_type": "markdown",
   "metadata": {},
   "source": [
    "Для простоты работы с данными, измените нумерацию пользователей и фильмов так, чтобы нумерация начиналась с 0 и шла непрерывно."
   ]
  },
  {
   "cell_type": "code",
   "execution_count": 10,
   "metadata": {},
   "outputs": [
    {
     "data": {
      "text/html": [
       "<div>\n",
       "<style scoped>\n",
       "    .dataframe tbody tr th:only-of-type {\n",
       "        vertical-align: middle;\n",
       "    }\n",
       "\n",
       "    .dataframe tbody tr th {\n",
       "        vertical-align: top;\n",
       "    }\n",
       "\n",
       "    .dataframe thead th {\n",
       "        text-align: right;\n",
       "    }\n",
       "</style>\n",
       "<table border=\"1\" class=\"dataframe\">\n",
       "  <thead>\n",
       "    <tr style=\"text-align: right;\">\n",
       "      <th></th>\n",
       "      <th>userId</th>\n",
       "      <th>movieId</th>\n",
       "      <th>rating</th>\n",
       "      <th>timestamp</th>\n",
       "    </tr>\n",
       "  </thead>\n",
       "  <tbody>\n",
       "    <tr>\n",
       "      <td>0</td>\n",
       "      <td>0</td>\n",
       "      <td>30</td>\n",
       "      <td>2.5</td>\n",
       "      <td>1260759144</td>\n",
       "    </tr>\n",
       "    <tr>\n",
       "      <td>1</td>\n",
       "      <td>0</td>\n",
       "      <td>833</td>\n",
       "      <td>3.0</td>\n",
       "      <td>1260759179</td>\n",
       "    </tr>\n",
       "    <tr>\n",
       "      <td>2</td>\n",
       "      <td>0</td>\n",
       "      <td>859</td>\n",
       "      <td>3.0</td>\n",
       "      <td>1260759182</td>\n",
       "    </tr>\n",
       "    <tr>\n",
       "      <td>3</td>\n",
       "      <td>0</td>\n",
       "      <td>906</td>\n",
       "      <td>2.0</td>\n",
       "      <td>1260759185</td>\n",
       "    </tr>\n",
       "    <tr>\n",
       "      <td>4</td>\n",
       "      <td>0</td>\n",
       "      <td>931</td>\n",
       "      <td>4.0</td>\n",
       "      <td>1260759205</td>\n",
       "    </tr>\n",
       "  </tbody>\n",
       "</table>\n",
       "</div>"
      ],
      "text/plain": [
       "   userId  movieId  rating   timestamp\n",
       "0       0       30     2.5  1260759144\n",
       "1       0      833     3.0  1260759179\n",
       "2       0      859     3.0  1260759182\n",
       "3       0      906     2.0  1260759185\n",
       "4       0      931     4.0  1260759205"
      ]
     },
     "execution_count": 10,
     "metadata": {},
     "output_type": "execute_result"
    }
   ],
   "source": [
    "data = data.sort_values(by=['userId', 'movieId'])\n",
    "data.userId = data.userId - 1\n",
    "maple = {k:i for i, k in enumerate(sorted(data.movieId.unique()))}\n",
    "data.movieId = data.movieId.map(maple)\n",
    "data.head()"
   ]
  },
  {
   "cell_type": "code",
   "execution_count": 11,
   "metadata": {},
   "outputs": [
    {
     "data": {
      "text/plain": [
       "(0, 670, 671)"
      ]
     },
     "execution_count": 11,
     "metadata": {},
     "output_type": "execute_result"
    }
   ],
   "source": [
    "data.userId.min(), data.userId.max(), len(data.userId.unique())"
   ]
  },
  {
   "cell_type": "code",
   "execution_count": 12,
   "metadata": {},
   "outputs": [
    {
     "data": {
      "text/plain": [
       "(0, 9065, 9066)"
      ]
     },
     "execution_count": 12,
     "metadata": {},
     "output_type": "execute_result"
    }
   ],
   "source": [
    "data.movieId.min(), data.movieId.max(), len(data.movieId.unique())"
   ]
  },
  {
   "cell_type": "markdown",
   "metadata": {},
   "source": [
    "Удалим для наиболее активных пользователей 5 оценок"
   ]
  },
  {
   "cell_type": "code",
   "execution_count": 13,
   "metadata": {},
   "outputs": [
    {
     "data": {
      "text/plain": [
       "((99954, 4), (50, 4))"
      ]
     },
     "execution_count": 13,
     "metadata": {},
     "output_type": "execute_result"
    }
   ],
   "source": [
    "active_users = data.userId.value_counts()[:10].index\n",
    "test_data = pd.DataFrame([], columns=data.columns)\n",
    "for user_id in active_users:\n",
    "    _, test = train_test_split(data[data.userId == user_id], test_size=5, random_state=42)\n",
    "    test_data = test_data.append(test, ignore_index=True)\n",
    "    data = data[~((data.userId == user_id) & (data.movieId.isin(test.movieId.values)))]\n",
    "data.shape, test_data.shape"
   ]
  },
  {
   "cell_type": "code",
   "execution_count": 14,
   "metadata": {},
   "outputs": [
    {
     "data": {
      "text/html": [
       "<div>\n",
       "<style scoped>\n",
       "    .dataframe tbody tr th:only-of-type {\n",
       "        vertical-align: middle;\n",
       "    }\n",
       "\n",
       "    .dataframe tbody tr th {\n",
       "        vertical-align: top;\n",
       "    }\n",
       "\n",
       "    .dataframe thead th {\n",
       "        text-align: right;\n",
       "    }\n",
       "</style>\n",
       "<table border=\"1\" class=\"dataframe\">\n",
       "  <thead>\n",
       "    <tr style=\"text-align: right;\">\n",
       "      <th></th>\n",
       "      <th>userId</th>\n",
       "      <th>movieId</th>\n",
       "      <th>rating</th>\n",
       "      <th>timestamp</th>\n",
       "    </tr>\n",
       "  </thead>\n",
       "  <tbody>\n",
       "    <tr>\n",
       "      <td>0</td>\n",
       "      <td>546</td>\n",
       "      <td>3340</td>\n",
       "      <td>4.0</td>\n",
       "      <td>1028129718</td>\n",
       "    </tr>\n",
       "    <tr>\n",
       "      <td>1</td>\n",
       "      <td>546</td>\n",
       "      <td>772</td>\n",
       "      <td>4.0</td>\n",
       "      <td>1039880724</td>\n",
       "    </tr>\n",
       "    <tr>\n",
       "      <td>2</td>\n",
       "      <td>546</td>\n",
       "      <td>8781</td>\n",
       "      <td>4.5</td>\n",
       "      <td>1468681977</td>\n",
       "    </tr>\n",
       "    <tr>\n",
       "      <td>3</td>\n",
       "      <td>546</td>\n",
       "      <td>5835</td>\n",
       "      <td>4.0</td>\n",
       "      <td>1242992741</td>\n",
       "    </tr>\n",
       "    <tr>\n",
       "      <td>4</td>\n",
       "      <td>546</td>\n",
       "      <td>1369</td>\n",
       "      <td>3.5</td>\n",
       "      <td>1342849917</td>\n",
       "    </tr>\n",
       "  </tbody>\n",
       "</table>\n",
       "</div>"
      ],
      "text/plain": [
       "  userId movieId  rating   timestamp\n",
       "0    546    3340     4.0  1028129718\n",
       "1    546     772     4.0  1039880724\n",
       "2    546    8781     4.5  1468681977\n",
       "3    546    5835     4.0  1242992741\n",
       "4    546    1369     3.5  1342849917"
      ]
     },
     "execution_count": 14,
     "metadata": {},
     "output_type": "execute_result"
    }
   ],
   "source": [
    "test_data.head()"
   ]
  },
  {
   "cell_type": "code",
   "execution_count": 15,
   "metadata": {},
   "outputs": [],
   "source": [
    "test_actual = np.array([test_data.movieId[test_data.userId == user] for user in test_data.userId.unique()])"
   ]
  },
  {
   "cell_type": "code",
   "execution_count": 16,
   "metadata": {},
   "outputs": [
    {
     "data": {
      "text/plain": [
       "array([546, 563, 623, 14, 72, 451, 467, 379, 310, 29], dtype=object)"
      ]
     },
     "execution_count": 16,
     "metadata": {},
     "output_type": "execute_result"
    }
   ],
   "source": [
    "test_data.userId.unique()"
   ]
  },
  {
   "cell_type": "code",
   "execution_count": 17,
   "metadata": {},
   "outputs": [
    {
     "data": {
      "text/plain": [
       "Int64Index([546, 563, 623, 14, 72, 451, 467, 379, 310, 29], dtype='int64')"
      ]
     },
     "execution_count": 17,
     "metadata": {},
     "output_type": "execute_result"
    }
   ],
   "source": [
    "active_users"
   ]
  },
  {
   "cell_type": "markdown",
   "metadata": {},
   "source": [
    "Преобразуем данные в таблицу `X`, с которой может работать `UserBasedRecommendation`, где $X_{ui} = r_{ui}$, если пользователь $u$ поставил оценку фильму $i$, и $X_{ui} = 0$, если пользователь $u$ не проставил оценку фильму $i$.\n",
    "\n",
    "Вам может пригодиться `csr_matrix`."
   ]
  },
  {
   "cell_type": "code",
   "execution_count": 18,
   "metadata": {},
   "outputs": [],
   "source": [
    "from scipy.sparse import csr_matrix"
   ]
  },
  {
   "cell_type": "code",
   "execution_count": 19,
   "metadata": {},
   "outputs": [
    {
     "data": {
      "text/plain": [
       "2.5"
      ]
     },
     "execution_count": 19,
     "metadata": {},
     "output_type": "execute_result"
    }
   ],
   "source": [
    "data_matrix = csr_matrix((data.rating, (data.userId, data.movieId)))\n",
    "data_matrix[0, 30]"
   ]
  },
  {
   "cell_type": "markdown",
   "metadata": {},
   "source": [
    "Для пользователей, у которых были удалены фильмы, найдите топ 100 фильмов, который должен посмотреть каждый из этих пользователей, используя `UserBasedRecommendation`. Не забудьте подобрать параметр alpha."
   ]
  },
  {
   "cell_type": "code",
   "execution_count": 52,
   "metadata": {},
   "outputs": [],
   "source": [
    "model = UserBasedRecommendation(alpha=0.1).fit(data_matrix.toarray())\n",
    "predicted = np.empty([0,100])\n",
    "for user_id in active_users:\n",
    "    prediction = model.make_recommendation(user_id=user_id, n_recommendations=100)\n",
    "    predicted = np.append(predicted, [prediction], axis=0)"
   ]
  },
  {
   "cell_type": "markdown",
   "metadata": {},
   "source": [
    "Используя метрику `MAP@5`, `MAP@10` и `MAP@100`, определите, насколько эффективна user-based рекомендательная система для данной задачи."
   ]
  },
  {
   "cell_type": "code",
   "execution_count": 33,
   "metadata": {},
   "outputs": [],
   "source": [
    "from utils import mapk"
   ]
  },
  {
   "cell_type": "code",
   "execution_count": 53,
   "metadata": {},
   "outputs": [
    {
     "name": "stdout",
     "output_type": "stream",
     "text": [
      "0.024\n",
      "0.024\n",
      "0.026\n"
     ]
    }
   ],
   "source": [
    "for k in (5, 10, 100):\n",
    "    print(round(mapk(test_actual, predicted, k),3))"
   ]
  },
  {
   "cell_type": "markdown",
   "metadata": {},
   "source": [
    "Как можно улучшить работу модели?\n",
    "\n",
    "<b>Ответ: Учет рейтинга фильмов у схожих пользователей; ансамбль с другими моделями или той же моделью на других параметрах. </b>"
   ]
  }
 ],
 "metadata": {
  "kernelspec": {
   "display_name": "Python 3",
   "language": "python",
   "name": "python3"
  },
  "language_info": {
   "codemirror_mode": {
    "name": "ipython",
    "version": 3
   },
   "file_extension": ".py",
   "mimetype": "text/x-python",
   "name": "python",
   "nbconvert_exporter": "python",
   "pygments_lexer": "ipython3",
   "version": "3.7.1"
  }
 },
 "nbformat": 4,
 "nbformat_minor": 4
}
