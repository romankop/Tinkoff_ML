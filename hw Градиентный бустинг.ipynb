{
 "cells": [
  {
   "cell_type": "markdown",
   "metadata": {},
   "source": [
    "# Градиентный бустинг своими руками\n",
    "\n",
    "\n",
    "Целью задания будет сравнить работу градиентного бустинга из коробки `sklearn.ensemble import GradientBoostingRegressor` c любыми другими аглоритмами\n",
    "\n",
    "Предлагаетсяиспользоваться датасет `boston` из `sklearn.datasets`. Оставьте **последние 25% объектов** для контроля качества, разделив `X` и `y` на `X_train`, `y_train` и `X_test`, `y_test`.\n",
    "\n",
    "В качестве метрики используйте RMSE"
   ]
  },
  {
   "cell_type": "code",
   "execution_count": 27,
   "metadata": {},
   "outputs": [],
   "source": [
    "import warnings\n",
    "warnings.filterwarnings(\"ignore\")"
   ]
  },
  {
   "cell_type": "code",
   "execution_count": 17,
   "metadata": {},
   "outputs": [],
   "source": [
    "from sklearn.datasets import load_boston\n",
    "from sklearn.model_selection import train_test_split\n",
    "import numpy as np\n",
    "boston = load_boston()"
   ]
  },
  {
   "cell_type": "code",
   "execution_count": 12,
   "metadata": {},
   "outputs": [],
   "source": [
    "X = boston.data\n",
    "y = boston.target\n",
    "X_train, X_test, y_train, y_test = train_test_split(X, y, test_size=0.25, shuffle=False)"
   ]
  },
  {
   "cell_type": "code",
   "execution_count": 15,
   "metadata": {},
   "outputs": [],
   "source": [
    "from sklearn.metrics import mean_squared_error\n",
    "rmse = lambda y, y_pred: np.sqrt(mean_squared_error(y, y_pred))"
   ]
  },
  {
   "cell_type": "code",
   "execution_count": 20,
   "metadata": {},
   "outputs": [
    {
     "name": "stdout",
     "output_type": "stream",
     "text": [
      "GradientBoostingRegressor: 4.6096230299009635\n"
     ]
    }
   ],
   "source": [
    "from sklearn.ensemble import GradientBoostingRegressor\n",
    "gbr = GradientBoostingRegressor()\n",
    "gbr.fit(X_train, y_train)\n",
    "y_pred = gbr.predict(X_test)\n",
    "print('GradientBoostingRegressor: ' + str(rmse(y_test, y_pred)))"
   ]
  },
  {
   "cell_type": "markdown",
   "metadata": {},
   "source": [
    "**Регрессоры**"
   ]
  },
  {
   "cell_type": "code",
   "execution_count": 36,
   "metadata": {},
   "outputs": [],
   "source": [
    "from sklearn.linear_model import ARDRegression, BayesianRidge, LinearRegression, RidgeCV\n",
    "from sklearn.neighbors import KNeighborsRegressor\n",
    "from sklearn.tree import DecisionTreeRegressor, ExtraTreeRegressor"
   ]
  },
  {
   "cell_type": "code",
   "execution_count": 28,
   "metadata": {},
   "outputs": [],
   "source": [
    "ard = ARDRegression().fit(X_train, y_train)\n",
    "br = BayesianRidge().fit(X_train, y_train)\n",
    "lr = LinearRegression().fit(X_train, y_train)\n",
    "ridge = RidgeCV().fit(X_train, y_train)\n",
    "knr = KNeighborsRegressor().fit(X_train, y_train)\n",
    "lsvr = LinearSVR().fit(X_train, y_train)\n",
    "nu = NuSVR().fit(X_train, y_train)\n",
    "svr = SVR().fit(X_train, y_train)\n",
    "dtr = DecisionTreeRegressor().fit(X_train, y_train)\n",
    "etr = ExtraTreeRegressor().fit(X_train, y_train)"
   ]
  },
  {
   "cell_type": "code",
   "execution_count": 29,
   "metadata": {},
   "outputs": [
    {
     "name": "stdout",
     "output_type": "stream",
     "text": [
      "ARDRegression: 9.122118266193322\n"
     ]
    }
   ],
   "source": [
    "y_pred = ard.predict(X_test)\n",
    "print('ARDRegression: ' + str(rmse(y_test, y_pred)))"
   ]
  },
  {
   "cell_type": "code",
   "execution_count": 30,
   "metadata": {},
   "outputs": [
    {
     "name": "stdout",
     "output_type": "stream",
     "text": [
      "BayesianRidge: 7.616767714723482\n"
     ]
    }
   ],
   "source": [
    "y_pred = br.predict(X_test)\n",
    "print('BayesianRidge: ' + str(rmse(y_test, y_pred)))"
   ]
  },
  {
   "cell_type": "code",
   "execution_count": 31,
   "metadata": {},
   "outputs": [
    {
     "name": "stdout",
     "output_type": "stream",
     "text": [
      "LinearRegression: 8.254979753549161\n"
     ]
    }
   ],
   "source": [
    "y_pred = lr.predict(X_test)\n",
    "print('LinearRegression: ' + str(rmse(y_test, y_pred)))"
   ]
  },
  {
   "cell_type": "code",
   "execution_count": 32,
   "metadata": {},
   "outputs": [
    {
     "name": "stdout",
     "output_type": "stream",
     "text": [
      "RidgeCV: 8.203608091387656\n"
     ]
    }
   ],
   "source": [
    "y_pred = ridge.predict(X_test)\n",
    "print('RidgeCV: ' + str(rmse(y_test, y_pred)))"
   ]
  },
  {
   "cell_type": "code",
   "execution_count": 33,
   "metadata": {},
   "outputs": [
    {
     "name": "stdout",
     "output_type": "stream",
     "text": [
      "KNeighborsRegressor: 9.010830229081163\n"
     ]
    }
   ],
   "source": [
    "y_pred = knr.predict(X_test)\n",
    "print('KNeighborsRegressor: ' + str(rmse(y_test, y_pred)))"
   ]
  },
  {
   "cell_type": "code",
   "execution_count": 37,
   "metadata": {},
   "outputs": [
    {
     "name": "stdout",
     "output_type": "stream",
     "text": [
      "LinearSVR: 15.671114577294098\n"
     ]
    }
   ],
   "source": [
    "y_pred = lsvr.predict(X_test)\n",
    "print('LinearSVR: ' + str(rmse(y_test, y_pred)))"
   ]
  },
  {
   "cell_type": "code",
   "execution_count": 38,
   "metadata": {},
   "outputs": [
    {
     "name": "stdout",
     "output_type": "stream",
     "text": [
      "NuSVR: 10.586964435766143\n"
     ]
    }
   ],
   "source": [
    "y_pred = nu.predict(X_test)\n",
    "print('NuSVR: ' + str(rmse(y_test, y_pred)))"
   ]
  },
  {
   "cell_type": "code",
   "execution_count": 39,
   "metadata": {},
   "outputs": [
    {
     "name": "stdout",
     "output_type": "stream",
     "text": [
      "SVR: 9.435523505877354\n"
     ]
    }
   ],
   "source": [
    "y_pred = svr.predict(X_test)\n",
    "print('SVR: ' + str(rmse(y_test, y_pred)))"
   ]
  },
  {
   "cell_type": "code",
   "execution_count": 41,
   "metadata": {},
   "outputs": [
    {
     "name": "stdout",
     "output_type": "stream",
     "text": [
      "DecisionTreeRegressor: 6.487328654451394\n"
     ]
    }
   ],
   "source": [
    "y_pred = dtr.predict(X_test)\n",
    "print('DecisionTreeRegressor: ' + str(rmse(y_test, y_pred)))"
   ]
  },
  {
   "cell_type": "code",
   "execution_count": 40,
   "metadata": {},
   "outputs": [
    {
     "name": "stdout",
     "output_type": "stream",
     "text": [
      "ExtraTreeRegressor: 5.701567680537347\n"
     ]
    }
   ],
   "source": [
    "y_pred = etr.predict(X_test)\n",
    "print('ExtraTreeRegressor: ' + str(rmse(y_test, y_pred)))"
   ]
  },
  {
   "cell_type": "markdown",
   "metadata": {},
   "source": [
    "**Ансамбли**"
   ]
  },
  {
   "cell_type": "code",
   "execution_count": 47,
   "metadata": {},
   "outputs": [],
   "source": [
    "from sklearn.ensemble import AdaBoostRegressor, BaggingRegressor, ExtraTreesRegressor, RandomForestRegressor"
   ]
  },
  {
   "cell_type": "code",
   "execution_count": 48,
   "metadata": {},
   "outputs": [],
   "source": [
    "abr = AdaBoostRegressor().fit(X_train, y_train)\n",
    "bagr = BaggingRegressor().fit(X_train, y_train)\n",
    "etreesr = ExtraTreesRegressor().fit(X_train, y_train)\n",
    "randfr = RandomForestRegressor().fit(X_train, y_train)"
   ]
  },
  {
   "cell_type": "code",
   "execution_count": 49,
   "metadata": {},
   "outputs": [
    {
     "name": "stdout",
     "output_type": "stream",
     "text": [
      "AdaBoostRegressor: 6.319691268942754\n"
     ]
    }
   ],
   "source": [
    "y_pred = abr.predict(X_test)\n",
    "print('AdaBoostRegressor: ' + str(rmse(y_test, y_pred)))"
   ]
  },
  {
   "cell_type": "code",
   "execution_count": 50,
   "metadata": {},
   "outputs": [
    {
     "name": "stdout",
     "output_type": "stream",
     "text": [
      "BaggingRegressor: 4.876884493424539\n"
     ]
    }
   ],
   "source": [
    "y_pred = bagr.predict(X_test)\n",
    "print('BaggingRegressor: ' + str(rmse(y_test, y_pred)))"
   ]
  },
  {
   "cell_type": "code",
   "execution_count": 51,
   "metadata": {},
   "outputs": [
    {
     "name": "stdout",
     "output_type": "stream",
     "text": [
      "ExtraTreesRegressor: 5.969185636697382\n"
     ]
    }
   ],
   "source": [
    "y_pred = etreesr.predict(X_test)\n",
    "print('ExtraTreesRegressor: ' + str(rmse(y_test, y_pred)))"
   ]
  },
  {
   "cell_type": "code",
   "execution_count": 52,
   "metadata": {},
   "outputs": [
    {
     "name": "stdout",
     "output_type": "stream",
     "text": [
      "RandomForestRegressor: 5.204294713461847\n"
     ]
    }
   ],
   "source": [
    "y_pred = randfr.predict(X_test)\n",
    "print('RandomForestRegressor: ' + str(rmse(y_test, y_pred)))"
   ]
  },
  {
   "cell_type": "code",
   "execution_count": 53,
   "metadata": {},
   "outputs": [],
   "source": [
    "from sklearn.ensemble import VotingRegressor"
   ]
  },
  {
   "cell_type": "code",
   "execution_count": 58,
   "metadata": {},
   "outputs": [],
   "source": [
    "vr1 = VotingRegressor([('ard', ard), ('br', br), ('lr', lr), ('ridge', ridge), ('knr', knr), ('lsvr', lsvr), \n",
    "                       ('nu', nu), ('svr', svr), ('dtr', dtr), ('etr', etr)]).fit(X_train, y_train)\n",
    "vr2 = VotingRegressor([('abr', abr), ('bagr', bagr), ('etreesr', etreesr), ('randfr', randfr)]).fit(X_train, y_train)\n",
    "vr3 = VotingRegressor([('ard', ard), ('br', br), ('lr', lr), ('ridge', ridge), ('knr', knr), ('lsvr', lsvr), ('nu', nu), \n",
    "                       ('svr', svr), ('dtr', dtr), ('etr', etr), ('abr', abr), ('bagr', bagr), ('etreesr', etreesr), \n",
    "                       ('randfr', randfr)]).fit(X_train, y_train)"
   ]
  },
  {
   "cell_type": "code",
   "execution_count": 59,
   "metadata": {},
   "outputs": [
    {
     "name": "stdout",
     "output_type": "stream",
     "text": [
      "VotingRegressor1: 7.299544437570744\n"
     ]
    }
   ],
   "source": [
    "y_pred = vr1.predict(X_test)\n",
    "print('VotingRegressor1: ' + str(rmse(y_test, y_pred)))"
   ]
  },
  {
   "cell_type": "code",
   "execution_count": 60,
   "metadata": {},
   "outputs": [
    {
     "name": "stdout",
     "output_type": "stream",
     "text": [
      "VotingRegressor2: 5.461095422350384\n"
     ]
    }
   ],
   "source": [
    "y_pred = vr2.predict(X_test)\n",
    "print('VotingRegressor2: ' + str(rmse(y_test, y_pred)))"
   ]
  },
  {
   "cell_type": "code",
   "execution_count": 61,
   "metadata": {},
   "outputs": [
    {
     "name": "stdout",
     "output_type": "stream",
     "text": [
      "VotingRegressor3: 6.493050159344704\n"
     ]
    }
   ],
   "source": [
    "y_pred = vr3.predict(X_test)\n",
    "print('VotingRegressor3: ' + str(rmse(y_test, y_pred)))"
   ]
  },
  {
   "cell_type": "markdown",
   "metadata": {},
   "source": [
    "**Итак, лучшим оказался простой Bagging Regressor**"
   ]
  },
  {
   "cell_type": "code",
   "execution_count": 111,
   "metadata": {},
   "outputs": [
    {
     "data": {
      "text/plain": [
       "379"
      ]
     },
     "execution_count": 111,
     "metadata": {},
     "output_type": "execute_result"
    }
   ],
   "source": [
    "X_train.shape[0]"
   ]
  },
  {
   "cell_type": "code",
   "execution_count": 65,
   "metadata": {},
   "outputs": [],
   "source": [
    "from sklearn.model_selection import GridSearchCV"
   ]
  },
  {
   "cell_type": "code",
   "execution_count": 122,
   "metadata": {
    "scrolled": true
   },
   "outputs": [],
   "source": [
    "params = {'max_features': range(1,14), 'n_estimators': range(1,101)}\n",
    "br = BaggingRegressor()\n",
    "bag = GridSearchCV(br, params, 'neg_mean_squared_error').fit(X_train, y_train)"
   ]
  },
  {
   "cell_type": "code",
   "execution_count": 135,
   "metadata": {},
   "outputs": [
    {
     "data": {
      "text/plain": [
       "{'max_features': 9, 'n_estimators': 10}"
      ]
     },
     "execution_count": 135,
     "metadata": {},
     "output_type": "execute_result"
    }
   ],
   "source": [
    "bag.best_params_"
   ]
  },
  {
   "cell_type": "code",
   "execution_count": 168,
   "metadata": {},
   "outputs": [
    {
     "name": "stdout",
     "output_type": "stream",
     "text": [
      "BaggingUpdated: 4.5739153440792\n"
     ]
    }
   ],
   "source": [
    "br = BaggingRegressor(**bag.best_params_).fit(X_train, y_train)\n",
    "y_pred = br.predict(X_test)\n",
    "metric = rmse(y_test, y_pred)\n",
    "print('BaggingUpdated: ' + str(metric))"
   ]
  }
 ],
 "metadata": {
  "kernelspec": {
   "display_name": "Python 3",
   "language": "python",
   "name": "python3"
  },
  "language_info": {
   "codemirror_mode": {
    "name": "ipython",
    "version": 3
   },
   "file_extension": ".py",
   "mimetype": "text/x-python",
   "name": "python",
   "nbconvert_exporter": "python",
   "pygments_lexer": "ipython3",
   "version": "3.7.1"
  }
 },
 "nbformat": 4,
 "nbformat_minor": 1
}
